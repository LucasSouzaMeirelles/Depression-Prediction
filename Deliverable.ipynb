{
 "cells": [
  {
   "cell_type": "code",
   "execution_count": 1,
   "id": "9656138e-720f-4e01-bd85-aa7d3b3a186a",
   "metadata": {},
   "outputs": [],
   "source": [
    "import pandas as pd\n",
    "import numpy as np\n",
    "from sklearn.linear_model import LogisticRegression\n",
    "import joblib"
   ]
  },
  {
   "cell_type": "code",
   "execution_count": 19,
   "id": "e3782218-4b23-4190-a4b3-c8ff9b4bd266",
   "metadata": {},
   "outputs": [],
   "source": [
    "def predict_depression(age, work_pressure, job_satisfaction, suicidal_thoughts, work_hours, financial_stress,\n",
    "                       sleep_duration, dietary_habits):\n",
    "\n",
    "    suicidal_thoughts = int(suicidal_thoughts == 'Yes')\n",
    "\n",
    "    if job_satisfaction == 5: job_satisfaction = 4\n",
    "    \n",
    "    sleep_duration_df = pd.read_csv('sleep_duration_encoding.csv')\n",
    "    sleep_duration_code = sleep_duration_df[sleep_duration_df['sleep_duration'] == sleep_duration].iloc[0,1]\n",
    "\n",
    "    dietary_habits_df = pd.read_csv('dietary_habits_encoding.csv')\n",
    "    dietary_habits_code = dietary_habits_df[dietary_habits_df['dietary_habits'] == dietary_habits].iloc[0,1]\n",
    "\n",
    "    var_list = ['age', 'work_pressure', 'job_satisfaction', 'suicidal_thoughts', 'work_hours',\n",
    "                'financial_stress', 'sleep_duration_code', 'dietary_habits_code']\n",
    "\n",
    "    values_list = [age, work_pressure, job_satisfaction, suicidal_thoughts, work_hours, financial_stress,\n",
    "                   sleep_duration_code, dietary_habits_code]\n",
    "\n",
    "    df = pd.read_csv('analyzed_data.csv')\n",
    "    input_dict = {}\n",
    "\n",
    "    for var, value in zip(var_list, values_list):\n",
    "        value = (value - df[var].mean())/df[var].std()\n",
    "        input_dict[var] = [value]\n",
    "\n",
    "    model = joblib.load('final_model.pkl')\n",
    "    depression = model.predict(pd.DataFrame(input_dict))[0]\n",
    "\n",
    "    return(depression)"
   ]
  },
  {
   "cell_type": "code",
   "execution_count": 15,
   "id": "eb1084e1-b096-4169-97c5-fe90c1284b5a",
   "metadata": {},
   "outputs": [],
   "source": [
    "age = 18\n",
    "work_pressure = 3\n",
    "job_satisfaction = 1\n",
    "suicidal_thoughts = 'Yes'\n",
    "work_hours = 7\n",
    "financial_stress = 3\n",
    "sleep_duration = 'More than 8 hours'\n",
    "dietary_habits = 'Unhealthy'"
   ]
  },
  {
   "cell_type": "code",
   "execution_count": 20,
   "id": "d8498753-481b-408a-bb8d-5d14379a7cb8",
   "metadata": {},
   "outputs": [
    {
     "data": {
      "text/plain": [
       "1"
      ]
     },
     "execution_count": 20,
     "metadata": {},
     "output_type": "execute_result"
    }
   ],
   "source": [
    "predict_depression(age, work_pressure, job_satisfaction, suicidal_thoughts, work_hours, financial_stress,\n",
    "                   sleep_duration, dietary_habits)"
   ]
  }
 ],
 "metadata": {
  "kernelspec": {
   "display_name": "Python 3 (ipykernel)",
   "language": "python",
   "name": "python3"
  },
  "language_info": {
   "codemirror_mode": {
    "name": "ipython",
    "version": 3
   },
   "file_extension": ".py",
   "mimetype": "text/x-python",
   "name": "python",
   "nbconvert_exporter": "python",
   "pygments_lexer": "ipython3",
   "version": "3.12.2"
  }
 },
 "nbformat": 4,
 "nbformat_minor": 5
}
