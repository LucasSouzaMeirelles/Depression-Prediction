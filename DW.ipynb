{
 "cells": [
  {
   "cell_type": "code",
   "execution_count": 1,
   "id": "6762c5ba-a3b5-489d-a54d-43df4deb19eb",
   "metadata": {},
   "outputs": [],
   "source": [
    "import pandas as pd\n",
    "import numpy as np"
   ]
  },
  {
   "cell_type": "code",
   "execution_count": 2,
   "id": "b81d0b37-8b56-481f-868a-16893cfe0523",
   "metadata": {},
   "outputs": [
    {
     "data": {
      "text/html": [
       "<div>\n",
       "<style scoped>\n",
       "    .dataframe tbody tr th:only-of-type {\n",
       "        vertical-align: middle;\n",
       "    }\n",
       "\n",
       "    .dataframe tbody tr th {\n",
       "        vertical-align: top;\n",
       "    }\n",
       "\n",
       "    .dataframe thead th {\n",
       "        text-align: right;\n",
       "    }\n",
       "</style>\n",
       "<table border=\"1\" class=\"dataframe\">\n",
       "  <thead>\n",
       "    <tr style=\"text-align: right;\">\n",
       "      <th></th>\n",
       "      <th>gender</th>\n",
       "      <th>age</th>\n",
       "      <th>work_pressure</th>\n",
       "      <th>job_satisfaction</th>\n",
       "      <th>sleep_duration</th>\n",
       "      <th>dietary_habits</th>\n",
       "      <th>suicidal_thoughts</th>\n",
       "      <th>work_hours</th>\n",
       "      <th>financial_stress</th>\n",
       "      <th>mental_ilness_in_family</th>\n",
       "      <th>depression</th>\n",
       "    </tr>\n",
       "  </thead>\n",
       "  <tbody>\n",
       "    <tr>\n",
       "      <th>0</th>\n",
       "      <td>Female</td>\n",
       "      <td>37</td>\n",
       "      <td>2</td>\n",
       "      <td>4</td>\n",
       "      <td>7-8 hours</td>\n",
       "      <td>Moderate</td>\n",
       "      <td>No</td>\n",
       "      <td>6</td>\n",
       "      <td>2</td>\n",
       "      <td>No</td>\n",
       "      <td>No</td>\n",
       "    </tr>\n",
       "    <tr>\n",
       "      <th>1</th>\n",
       "      <td>Male</td>\n",
       "      <td>60</td>\n",
       "      <td>4</td>\n",
       "      <td>3</td>\n",
       "      <td>5-6 hours</td>\n",
       "      <td>Unhealthy</td>\n",
       "      <td>Yes</td>\n",
       "      <td>0</td>\n",
       "      <td>4</td>\n",
       "      <td>Yes</td>\n",
       "      <td>No</td>\n",
       "    </tr>\n",
       "    <tr>\n",
       "      <th>2</th>\n",
       "      <td>Female</td>\n",
       "      <td>42</td>\n",
       "      <td>2</td>\n",
       "      <td>3</td>\n",
       "      <td>5-6 hours</td>\n",
       "      <td>Moderate</td>\n",
       "      <td>No</td>\n",
       "      <td>0</td>\n",
       "      <td>2</td>\n",
       "      <td>No</td>\n",
       "      <td>No</td>\n",
       "    </tr>\n",
       "    <tr>\n",
       "      <th>3</th>\n",
       "      <td>Female</td>\n",
       "      <td>44</td>\n",
       "      <td>3</td>\n",
       "      <td>5</td>\n",
       "      <td>7-8 hours</td>\n",
       "      <td>Healthy</td>\n",
       "      <td>Yes</td>\n",
       "      <td>1</td>\n",
       "      <td>2</td>\n",
       "      <td>Yes</td>\n",
       "      <td>No</td>\n",
       "    </tr>\n",
       "    <tr>\n",
       "      <th>4</th>\n",
       "      <td>Male</td>\n",
       "      <td>48</td>\n",
       "      <td>4</td>\n",
       "      <td>3</td>\n",
       "      <td>7-8 hours</td>\n",
       "      <td>Moderate</td>\n",
       "      <td>Yes</td>\n",
       "      <td>6</td>\n",
       "      <td>5</td>\n",
       "      <td>Yes</td>\n",
       "      <td>No</td>\n",
       "    </tr>\n",
       "  </tbody>\n",
       "</table>\n",
       "</div>"
      ],
      "text/plain": [
       "   gender  age  work_pressure  job_satisfaction sleep_duration dietary_habits  \\\n",
       "0  Female   37              2                 4      7-8 hours       Moderate   \n",
       "1    Male   60              4                 3      5-6 hours      Unhealthy   \n",
       "2  Female   42              2                 3      5-6 hours       Moderate   \n",
       "3  Female   44              3                 5      7-8 hours        Healthy   \n",
       "4    Male   48              4                 3      7-8 hours       Moderate   \n",
       "\n",
       "  suicidal_thoughts  work_hours  financial_stress mental_ilness_in_family  \\\n",
       "0                No           6                 2                      No   \n",
       "1               Yes           0                 4                     Yes   \n",
       "2                No           0                 2                      No   \n",
       "3               Yes           1                 2                     Yes   \n",
       "4               Yes           6                 5                     Yes   \n",
       "\n",
       "  depression  \n",
       "0         No  \n",
       "1         No  \n",
       "2         No  \n",
       "3         No  \n",
       "4         No  "
      ]
     },
     "execution_count": 2,
     "metadata": {},
     "output_type": "execute_result"
    }
   ],
   "source": [
    "df = pd.read_csv('Depression Professional Dataset.csv')\n",
    "df.head()"
   ]
  },
  {
   "cell_type": "code",
   "execution_count": 3,
   "id": "489bbf55-cf6f-41c1-94fb-dab8af23f6f4",
   "metadata": {},
   "outputs": [
    {
     "name": "stdout",
     "output_type": "stream",
     "text": [
      "<class 'pandas.core.frame.DataFrame'>\n",
      "RangeIndex: 2054 entries, 0 to 2053\n",
      "Data columns (total 11 columns):\n",
      " #   Column                   Non-Null Count  Dtype \n",
      "---  ------                   --------------  ----- \n",
      " 0   gender                   2054 non-null   object\n",
      " 1   age                      2054 non-null   int64 \n",
      " 2   work_pressure            2054 non-null   int64 \n",
      " 3   job_satisfaction         2054 non-null   int64 \n",
      " 4   sleep_duration           2054 non-null   object\n",
      " 5   dietary_habits           2054 non-null   object\n",
      " 6   suicidal_thoughts        2054 non-null   object\n",
      " 7   work_hours               2054 non-null   int64 \n",
      " 8   financial_stress         2054 non-null   int64 \n",
      " 9   mental_ilness_in_family  2054 non-null   object\n",
      " 10  depression               2054 non-null   object\n",
      "dtypes: int64(5), object(6)\n",
      "memory usage: 176.6+ KB\n"
     ]
    }
   ],
   "source": [
    "df.info()"
   ]
  },
  {
   "cell_type": "code",
   "execution_count": 4,
   "id": "4ccdea70-8a6a-49c5-888f-529dd4bd5561",
   "metadata": {},
   "outputs": [
    {
     "data": {
      "text/plain": [
       "gender\n",
       "Male      1066\n",
       "Female     988\n",
       "Name: count, dtype: int64"
      ]
     },
     "execution_count": 4,
     "metadata": {},
     "output_type": "execute_result"
    }
   ],
   "source": [
    "df.gender.value_counts()"
   ]
  },
  {
   "cell_type": "code",
   "execution_count": 5,
   "id": "20ea050f-6182-4fd2-9e86-f02499df2f58",
   "metadata": {},
   "outputs": [
    {
     "data": {
      "text/plain": [
       "male\n",
       "1    1066\n",
       "0     988\n",
       "Name: count, dtype: int64"
      ]
     },
     "execution_count": 5,
     "metadata": {},
     "output_type": "execute_result"
    }
   ],
   "source": [
    "wrangled_df = df.rename(columns = {'gender': 'male'})\n",
    "wrangled_df.male = (wrangled_df.male == 'Male').astype(int)\n",
    "wrangled_df.male.value_counts()"
   ]
  },
  {
   "cell_type": "code",
   "execution_count": 6,
   "id": "ec7e3e21-048a-4eed-be55-858a5ad200dc",
   "metadata": {},
   "outputs": [
    {
     "data": {
      "text/plain": [
       "sleep_duration\n",
       "7-8 hours            530\n",
       "Less than 5 hours    525\n",
       "5-6 hours            505\n",
       "More than 8 hours    494\n",
       "Name: count, dtype: int64"
      ]
     },
     "execution_count": 6,
     "metadata": {},
     "output_type": "execute_result"
    }
   ],
   "source": [
    "wrangled_df.sleep_duration.value_counts()"
   ]
  },
  {
   "cell_type": "code",
   "execution_count": 7,
   "id": "e8a609e8-3eb6-44ba-9278-8a1bdc4800d3",
   "metadata": {},
   "outputs": [
    {
     "data": {
      "text/plain": [
       "dietary_habits\n",
       "Unhealthy    713\n",
       "Healthy      681\n",
       "Moderate     660\n",
       "Name: count, dtype: int64"
      ]
     },
     "execution_count": 7,
     "metadata": {},
     "output_type": "execute_result"
    }
   ],
   "source": [
    "wrangled_df.dietary_habits.value_counts()"
   ]
  },
  {
   "cell_type": "code",
   "execution_count": 8,
   "id": "b3830932-7150-4119-b06e-8096ee731ebf",
   "metadata": {},
   "outputs": [
    {
     "data": {
      "text/plain": [
       "suicidal_thoughts\n",
       "No     1065\n",
       "Yes     989\n",
       "Name: count, dtype: int64"
      ]
     },
     "execution_count": 8,
     "metadata": {},
     "output_type": "execute_result"
    }
   ],
   "source": [
    "wrangled_df.suicidal_thoughts.value_counts()"
   ]
  },
  {
   "cell_type": "code",
   "execution_count": 9,
   "id": "4762d7b4-8a63-4a9b-b964-367c59e56329",
   "metadata": {},
   "outputs": [
    {
     "data": {
      "text/plain": [
       "suicidal_thoughts\n",
       "0    1065\n",
       "1     989\n",
       "Name: count, dtype: int64"
      ]
     },
     "execution_count": 9,
     "metadata": {},
     "output_type": "execute_result"
    }
   ],
   "source": [
    "wrangled_df.suicidal_thoughts = (wrangled_df.suicidal_thoughts == 'Yes').astype(int)\n",
    "wrangled_df.suicidal_thoughts.value_counts()"
   ]
  },
  {
   "cell_type": "code",
   "execution_count": 10,
   "id": "e13808e9-46f5-46a7-93d0-910b31f4f308",
   "metadata": {},
   "outputs": [
    {
     "data": {
      "text/plain": [
       "mental_ilness_in_family\n",
       "No     1046\n",
       "Yes    1008\n",
       "Name: count, dtype: int64"
      ]
     },
     "execution_count": 10,
     "metadata": {},
     "output_type": "execute_result"
    }
   ],
   "source": [
    "wrangled_df.mental_ilness_in_family.value_counts()"
   ]
  },
  {
   "cell_type": "code",
   "execution_count": 11,
   "id": "568e3bd4-f290-42e2-b772-63dc4734e48f",
   "metadata": {},
   "outputs": [
    {
     "data": {
      "text/plain": [
       "mental_ilness_in_family\n",
       "0    1046\n",
       "1    1008\n",
       "Name: count, dtype: int64"
      ]
     },
     "execution_count": 11,
     "metadata": {},
     "output_type": "execute_result"
    }
   ],
   "source": [
    "wrangled_df.mental_ilness_in_family = (wrangled_df.mental_ilness_in_family == 'Yes').astype(int)\n",
    "wrangled_df.mental_ilness_in_family.value_counts()"
   ]
  },
  {
   "cell_type": "code",
   "execution_count": 12,
   "id": "729db3ec-f365-4e61-978b-b65adae245c3",
   "metadata": {},
   "outputs": [
    {
     "data": {
      "text/plain": [
       "depression\n",
       "No     1851\n",
       "Yes     203\n",
       "Name: count, dtype: int64"
      ]
     },
     "execution_count": 12,
     "metadata": {},
     "output_type": "execute_result"
    }
   ],
   "source": [
    "wrangled_df.depression.value_counts()"
   ]
  },
  {
   "cell_type": "code",
   "execution_count": 13,
   "id": "df9020e8-99df-4120-a7c7-13637071b7fb",
   "metadata": {},
   "outputs": [
    {
     "data": {
      "text/plain": [
       "depression\n",
       "0    1851\n",
       "1     203\n",
       "Name: count, dtype: int64"
      ]
     },
     "execution_count": 13,
     "metadata": {},
     "output_type": "execute_result"
    }
   ],
   "source": [
    "wrangled_df.depression = (wrangled_df.depression == 'Yes').astype(int)\n",
    "wrangled_df.depression.value_counts()"
   ]
  },
  {
   "cell_type": "code",
   "execution_count": 14,
   "id": "aa65be5e-cf49-41c7-a8fe-31e047c92df2",
   "metadata": {},
   "outputs": [
    {
     "data": {
      "text/html": [
       "<div>\n",
       "<style scoped>\n",
       "    .dataframe tbody tr th:only-of-type {\n",
       "        vertical-align: middle;\n",
       "    }\n",
       "\n",
       "    .dataframe tbody tr th {\n",
       "        vertical-align: top;\n",
       "    }\n",
       "\n",
       "    .dataframe thead th {\n",
       "        text-align: right;\n",
       "    }\n",
       "</style>\n",
       "<table border=\"1\" class=\"dataframe\">\n",
       "  <thead>\n",
       "    <tr style=\"text-align: right;\">\n",
       "      <th></th>\n",
       "      <th>male</th>\n",
       "      <th>age</th>\n",
       "      <th>work_pressure</th>\n",
       "      <th>job_satisfaction</th>\n",
       "      <th>sleep_duration</th>\n",
       "      <th>dietary_habits</th>\n",
       "      <th>suicidal_thoughts</th>\n",
       "      <th>work_hours</th>\n",
       "      <th>financial_stress</th>\n",
       "      <th>mental_ilness_in_family</th>\n",
       "      <th>depression</th>\n",
       "    </tr>\n",
       "  </thead>\n",
       "  <tbody>\n",
       "    <tr>\n",
       "      <th>0</th>\n",
       "      <td>0</td>\n",
       "      <td>37</td>\n",
       "      <td>2</td>\n",
       "      <td>4</td>\n",
       "      <td>7-8 hours</td>\n",
       "      <td>Moderate</td>\n",
       "      <td>0</td>\n",
       "      <td>6</td>\n",
       "      <td>2</td>\n",
       "      <td>0</td>\n",
       "      <td>0</td>\n",
       "    </tr>\n",
       "    <tr>\n",
       "      <th>1</th>\n",
       "      <td>1</td>\n",
       "      <td>60</td>\n",
       "      <td>4</td>\n",
       "      <td>3</td>\n",
       "      <td>5-6 hours</td>\n",
       "      <td>Unhealthy</td>\n",
       "      <td>1</td>\n",
       "      <td>0</td>\n",
       "      <td>4</td>\n",
       "      <td>1</td>\n",
       "      <td>0</td>\n",
       "    </tr>\n",
       "    <tr>\n",
       "      <th>2</th>\n",
       "      <td>0</td>\n",
       "      <td>42</td>\n",
       "      <td>2</td>\n",
       "      <td>3</td>\n",
       "      <td>5-6 hours</td>\n",
       "      <td>Moderate</td>\n",
       "      <td>0</td>\n",
       "      <td>0</td>\n",
       "      <td>2</td>\n",
       "      <td>0</td>\n",
       "      <td>0</td>\n",
       "    </tr>\n",
       "    <tr>\n",
       "      <th>3</th>\n",
       "      <td>0</td>\n",
       "      <td>44</td>\n",
       "      <td>3</td>\n",
       "      <td>5</td>\n",
       "      <td>7-8 hours</td>\n",
       "      <td>Healthy</td>\n",
       "      <td>1</td>\n",
       "      <td>1</td>\n",
       "      <td>2</td>\n",
       "      <td>1</td>\n",
       "      <td>0</td>\n",
       "    </tr>\n",
       "    <tr>\n",
       "      <th>4</th>\n",
       "      <td>1</td>\n",
       "      <td>48</td>\n",
       "      <td>4</td>\n",
       "      <td>3</td>\n",
       "      <td>7-8 hours</td>\n",
       "      <td>Moderate</td>\n",
       "      <td>1</td>\n",
       "      <td>6</td>\n",
       "      <td>5</td>\n",
       "      <td>1</td>\n",
       "      <td>0</td>\n",
       "    </tr>\n",
       "    <tr>\n",
       "      <th>5</th>\n",
       "      <td>0</td>\n",
       "      <td>60</td>\n",
       "      <td>1</td>\n",
       "      <td>4</td>\n",
       "      <td>7-8 hours</td>\n",
       "      <td>Unhealthy</td>\n",
       "      <td>1</td>\n",
       "      <td>12</td>\n",
       "      <td>3</td>\n",
       "      <td>1</td>\n",
       "      <td>0</td>\n",
       "    </tr>\n",
       "    <tr>\n",
       "      <th>6</th>\n",
       "      <td>0</td>\n",
       "      <td>30</td>\n",
       "      <td>4</td>\n",
       "      <td>2</td>\n",
       "      <td>More than 8 hours</td>\n",
       "      <td>Healthy</td>\n",
       "      <td>0</td>\n",
       "      <td>3</td>\n",
       "      <td>1</td>\n",
       "      <td>0</td>\n",
       "      <td>0</td>\n",
       "    </tr>\n",
       "    <tr>\n",
       "      <th>7</th>\n",
       "      <td>1</td>\n",
       "      <td>30</td>\n",
       "      <td>1</td>\n",
       "      <td>2</td>\n",
       "      <td>More than 8 hours</td>\n",
       "      <td>Unhealthy</td>\n",
       "      <td>1</td>\n",
       "      <td>6</td>\n",
       "      <td>1</td>\n",
       "      <td>0</td>\n",
       "      <td>0</td>\n",
       "    </tr>\n",
       "    <tr>\n",
       "      <th>8</th>\n",
       "      <td>1</td>\n",
       "      <td>56</td>\n",
       "      <td>1</td>\n",
       "      <td>2</td>\n",
       "      <td>More than 8 hours</td>\n",
       "      <td>Moderate</td>\n",
       "      <td>1</td>\n",
       "      <td>11</td>\n",
       "      <td>5</td>\n",
       "      <td>1</td>\n",
       "      <td>0</td>\n",
       "    </tr>\n",
       "    <tr>\n",
       "      <th>9</th>\n",
       "      <td>0</td>\n",
       "      <td>35</td>\n",
       "      <td>3</td>\n",
       "      <td>4</td>\n",
       "      <td>Less than 5 hours</td>\n",
       "      <td>Moderate</td>\n",
       "      <td>0</td>\n",
       "      <td>6</td>\n",
       "      <td>4</td>\n",
       "      <td>1</td>\n",
       "      <td>0</td>\n",
       "    </tr>\n",
       "  </tbody>\n",
       "</table>\n",
       "</div>"
      ],
      "text/plain": [
       "   male  age  work_pressure  job_satisfaction     sleep_duration  \\\n",
       "0     0   37              2                 4          7-8 hours   \n",
       "1     1   60              4                 3          5-6 hours   \n",
       "2     0   42              2                 3          5-6 hours   \n",
       "3     0   44              3                 5          7-8 hours   \n",
       "4     1   48              4                 3          7-8 hours   \n",
       "5     0   60              1                 4          7-8 hours   \n",
       "6     0   30              4                 2  More than 8 hours   \n",
       "7     1   30              1                 2  More than 8 hours   \n",
       "8     1   56              1                 2  More than 8 hours   \n",
       "9     0   35              3                 4  Less than 5 hours   \n",
       "\n",
       "  dietary_habits  suicidal_thoughts  work_hours  financial_stress  \\\n",
       "0       Moderate                  0           6                 2   \n",
       "1      Unhealthy                  1           0                 4   \n",
       "2       Moderate                  0           0                 2   \n",
       "3        Healthy                  1           1                 2   \n",
       "4       Moderate                  1           6                 5   \n",
       "5      Unhealthy                  1          12                 3   \n",
       "6        Healthy                  0           3                 1   \n",
       "7      Unhealthy                  1           6                 1   \n",
       "8       Moderate                  1          11                 5   \n",
       "9       Moderate                  0           6                 4   \n",
       "\n",
       "   mental_ilness_in_family  depression  \n",
       "0                        0           0  \n",
       "1                        1           0  \n",
       "2                        0           0  \n",
       "3                        1           0  \n",
       "4                        1           0  \n",
       "5                        1           0  \n",
       "6                        0           0  \n",
       "7                        0           0  \n",
       "8                        1           0  \n",
       "9                        1           0  "
      ]
     },
     "execution_count": 14,
     "metadata": {},
     "output_type": "execute_result"
    }
   ],
   "source": [
    "wrangled_df.head(10)"
   ]
  },
  {
   "cell_type": "code",
   "execution_count": 15,
   "id": "74c8f726-4a23-4dd9-bc55-e6fe8ed16e50",
   "metadata": {},
   "outputs": [],
   "source": [
    "wrangled_df.to_csv('wrangled_data.csv', index = False)"
   ]
  }
 ],
 "metadata": {
  "kernelspec": {
   "display_name": "Python 3 (ipykernel)",
   "language": "python",
   "name": "python3"
  },
  "language_info": {
   "codemirror_mode": {
    "name": "ipython",
    "version": 3
   },
   "file_extension": ".py",
   "mimetype": "text/x-python",
   "name": "python",
   "nbconvert_exporter": "python",
   "pygments_lexer": "ipython3",
   "version": "3.12.2"
  }
 },
 "nbformat": 4,
 "nbformat_minor": 5
}
