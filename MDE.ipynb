{
 "cells": [
  {
   "cell_type": "code",
   "execution_count": 1,
   "id": "0a40da89-b459-4812-91b8-e46df6980b01",
   "metadata": {},
   "outputs": [],
   "source": [
    "import pandas as pd\n",
    "import numpy as np\n",
    "from sklearn.linear_model import LogisticRegression\n",
    "from sklearn.svm import SVC\n",
    "from sklearn.tree import DecisionTreeClassifier\n",
    "from sklearn.neighbors import KNeighborsClassifier\n",
    "from sklearn.naive_bayes import GaussianNB\n",
    "from sklearn.ensemble import RandomForestClassifier, GradientBoostingClassifier\n",
    "from sklearn.model_selection import train_test_split, cross_val_score, cross_val_predict\n",
    "from sklearn.preprocessing import StandardScaler\n",
    "from sklearn.metrics import confusion_matrix, classification_report\n",
    "import joblib"
   ]
  },
  {
   "cell_type": "code",
   "execution_count": 2,
   "id": "dac92f33-4989-43b7-8411-5e0786a0a807",
   "metadata": {},
   "outputs": [],
   "source": [
    "df = pd.read_csv('analyzed_data.csv')\n",
    "y = df.depression\n",
    "x = df.drop('depression', axis=1)\n",
    "sc_x = pd.DataFrame(StandardScaler().fit_transform(x), columns = x.columns)"
   ]
  },
  {
   "cell_type": "code",
   "execution_count": 3,
   "id": "1c275440-dfd9-4874-8c5c-572909f5078a",
   "metadata": {},
   "outputs": [],
   "source": [
    "def alg_evaluation(x, y, type = 'binary'):\n",
    "\n",
    "    score_type = 'f1'\n",
    "    \n",
    "    if type != 'binary': score_type = 'f1_macro'\n",
    "    \n",
    "    alg_dict = {'lr': LogisticRegression(),\n",
    "                'svm': SVC(),\n",
    "                'tree': DecisionTreeClassifier(),\n",
    "                'knn': KNeighborsClassifier(),\n",
    "                'nb': GaussianNB(),\n",
    "                'rf': RandomForestClassifier(),\n",
    "                'gb': GradientBoostingClassifier()}\n",
    "\n",
    "    alg_list = ['lr', 'svm', 'tree', 'knn', 'nb', 'rf', 'gb']\n",
    "\n",
    "    cv_score_list = []\n",
    "\n",
    "    for alg in alg_list:\n",
    "        cm = alg_dict[alg]\n",
    "        cv_score = cross_val_score(cm, x, y, cv=5, scoring = score_type)\n",
    "        cv_score_list.append(cv_score.mean())\n",
    "\n",
    "    eval_df = pd.DataFrame({'algorithm': alg_list, 'mean_f1_score': cv_score_list})\n",
    "    eval_df = eval_df.sort_values(by = 'mean_f1_score', ascending = False).reset_index(drop = True)\n",
    "    return(eval_df)"
   ]
  },
  {
   "cell_type": "code",
   "execution_count": 4,
   "id": "8ba254f6-3c4d-4b52-9086-7042be0250ab",
   "metadata": {},
   "outputs": [
    {
     "data": {
      "text/html": [
       "<div>\n",
       "<style scoped>\n",
       "    .dataframe tbody tr th:only-of-type {\n",
       "        vertical-align: middle;\n",
       "    }\n",
       "\n",
       "    .dataframe tbody tr th {\n",
       "        vertical-align: top;\n",
       "    }\n",
       "\n",
       "    .dataframe thead th {\n",
       "        text-align: right;\n",
       "    }\n",
       "</style>\n",
       "<table border=\"1\" class=\"dataframe\">\n",
       "  <thead>\n",
       "    <tr style=\"text-align: right;\">\n",
       "      <th></th>\n",
       "      <th>algorithm</th>\n",
       "      <th>mean_f1_score</th>\n",
       "    </tr>\n",
       "  </thead>\n",
       "  <tbody>\n",
       "    <tr>\n",
       "      <th>0</th>\n",
       "      <td>lr</td>\n",
       "      <td>0.902586</td>\n",
       "    </tr>\n",
       "    <tr>\n",
       "      <th>1</th>\n",
       "      <td>svm</td>\n",
       "      <td>0.833003</td>\n",
       "    </tr>\n",
       "    <tr>\n",
       "      <th>2</th>\n",
       "      <td>gb</td>\n",
       "      <td>0.793686</td>\n",
       "    </tr>\n",
       "    <tr>\n",
       "      <th>3</th>\n",
       "      <td>rf</td>\n",
       "      <td>0.710445</td>\n",
       "    </tr>\n",
       "    <tr>\n",
       "      <th>4</th>\n",
       "      <td>nb</td>\n",
       "      <td>0.682967</td>\n",
       "    </tr>\n",
       "    <tr>\n",
       "      <th>5</th>\n",
       "      <td>knn</td>\n",
       "      <td>0.675496</td>\n",
       "    </tr>\n",
       "    <tr>\n",
       "      <th>6</th>\n",
       "      <td>tree</td>\n",
       "      <td>0.657444</td>\n",
       "    </tr>\n",
       "  </tbody>\n",
       "</table>\n",
       "</div>"
      ],
      "text/plain": [
       "  algorithm  mean_f1_score\n",
       "0        lr       0.902586\n",
       "1       svm       0.833003\n",
       "2        gb       0.793686\n",
       "3        rf       0.710445\n",
       "4        nb       0.682967\n",
       "5       knn       0.675496\n",
       "6      tree       0.657444"
      ]
     },
     "execution_count": 4,
     "metadata": {},
     "output_type": "execute_result"
    }
   ],
   "source": [
    "alg_evaluation(sc_x, y)"
   ]
  },
  {
   "cell_type": "code",
   "execution_count": 5,
   "id": "c0d80544-e05f-4173-96f8-b19945d4ae8b",
   "metadata": {},
   "outputs": [],
   "source": [
    "def train_test_evaluation(x, y, model, n_rounds):\n",
    "    \n",
    "    cm = model\n",
    "\n",
    "    f1_list = []\n",
    "\n",
    "    class_list = np.sort(y.unique())\n",
    "\n",
    "    for i in range(n_rounds):\n",
    "        \n",
    "        tr_x, te_x, tr_y, te_y = train_test_split(x, y, test_size = 0.25)\n",
    "        cm.fit(tr_x, tr_y)\n",
    "        yhat = cm.predict(te_x)\n",
    "        conf_matrix = confusion_matrix(te_y, yhat, labels = class_list)\n",
    "\n",
    "        avg_f1 = 0\n",
    "        \n",
    "        for cl in class_list:\n",
    "            m1 = conf_matrix[cl, cl]/conf_matrix[:, cl].sum()\n",
    "            m2 = conf_matrix[cl, cl]/conf_matrix[cl, :].sum()\n",
    "            f1 = 2*m1*m2/(m1+m2)\n",
    "            avg_f1 = avg_f1 + f1\n",
    "\n",
    "        avg_f1 = avg_f1/len(class_list)\n",
    "\n",
    "        f1_list.append(avg_f1)\n",
    "\n",
    "    eval_df = pd.DataFrame({'avg_f1': f1_list})\n",
    "    return(eval_df.describe())"
   ]
  },
  {
   "cell_type": "code",
   "execution_count": 6,
   "id": "eb855247-6945-4a65-b43e-9016fd2bfe2c",
   "metadata": {},
   "outputs": [
    {
     "data": {
      "text/html": [
       "<div>\n",
       "<style scoped>\n",
       "    .dataframe tbody tr th:only-of-type {\n",
       "        vertical-align: middle;\n",
       "    }\n",
       "\n",
       "    .dataframe tbody tr th {\n",
       "        vertical-align: top;\n",
       "    }\n",
       "\n",
       "    .dataframe thead th {\n",
       "        text-align: right;\n",
       "    }\n",
       "</style>\n",
       "<table border=\"1\" class=\"dataframe\">\n",
       "  <thead>\n",
       "    <tr style=\"text-align: right;\">\n",
       "      <th></th>\n",
       "      <th>avg_f1</th>\n",
       "    </tr>\n",
       "  </thead>\n",
       "  <tbody>\n",
       "    <tr>\n",
       "      <th>count</th>\n",
       "      <td>10.000000</td>\n",
       "    </tr>\n",
       "    <tr>\n",
       "      <th>mean</th>\n",
       "      <td>0.947965</td>\n",
       "    </tr>\n",
       "    <tr>\n",
       "      <th>std</th>\n",
       "      <td>0.009873</td>\n",
       "    </tr>\n",
       "    <tr>\n",
       "      <th>min</th>\n",
       "      <td>0.934978</td>\n",
       "    </tr>\n",
       "    <tr>\n",
       "      <th>25%</th>\n",
       "      <td>0.940310</td>\n",
       "    </tr>\n",
       "    <tr>\n",
       "      <th>50%</th>\n",
       "      <td>0.947741</td>\n",
       "    </tr>\n",
       "    <tr>\n",
       "      <th>75%</th>\n",
       "      <td>0.952188</td>\n",
       "    </tr>\n",
       "    <tr>\n",
       "      <th>max</th>\n",
       "      <td>0.966767</td>\n",
       "    </tr>\n",
       "  </tbody>\n",
       "</table>\n",
       "</div>"
      ],
      "text/plain": [
       "          avg_f1\n",
       "count  10.000000\n",
       "mean    0.947965\n",
       "std     0.009873\n",
       "min     0.934978\n",
       "25%     0.940310\n",
       "50%     0.947741\n",
       "75%     0.952188\n",
       "max     0.966767"
      ]
     },
     "execution_count": 6,
     "metadata": {},
     "output_type": "execute_result"
    }
   ],
   "source": [
    "cm = LogisticRegression()\n",
    "train_test_evaluation(sc_x, y, cm, 10)"
   ]
  },
  {
   "cell_type": "code",
   "execution_count": 7,
   "id": "70f653f6-1d99-476b-b8c1-b261703a1081",
   "metadata": {},
   "outputs": [
    {
     "name": "stdout",
     "output_type": "stream",
     "text": [
      "              precision    recall  f1-score   support\n",
      "\n",
      "           0       0.99      0.99      0.99      1851\n",
      "           1       0.94      0.87      0.90       203\n",
      "\n",
      "    accuracy                           0.98      2054\n",
      "   macro avg       0.96      0.93      0.95      2054\n",
      "weighted avg       0.98      0.98      0.98      2054\n",
      "\n"
     ]
    }
   ],
   "source": [
    "yhat = cross_val_predict(cm, sc_x, y, cv=5)\n",
    "print(classification_report(y, yhat))"
   ]
  },
  {
   "cell_type": "code",
   "execution_count": 8,
   "id": "0e948148-7092-478e-bf88-28c5d2e42c8f",
   "metadata": {},
   "outputs": [
    {
     "data": {
      "text/plain": [
       "['final_model.pkl']"
      ]
     },
     "execution_count": 8,
     "metadata": {},
     "output_type": "execute_result"
    }
   ],
   "source": [
    "final_model = LogisticRegression().fit(sc_x, y)\n",
    "joblib.dump(final_model, 'final_model.pkl')"
   ]
  }
 ],
 "metadata": {
  "kernelspec": {
   "display_name": "Python 3 (ipykernel)",
   "language": "python",
   "name": "python3"
  },
  "language_info": {
   "codemirror_mode": {
    "name": "ipython",
    "version": 3
   },
   "file_extension": ".py",
   "mimetype": "text/x-python",
   "name": "python",
   "nbconvert_exporter": "python",
   "pygments_lexer": "ipython3",
   "version": "3.12.2"
  }
 },
 "nbformat": 4,
 "nbformat_minor": 5
}
